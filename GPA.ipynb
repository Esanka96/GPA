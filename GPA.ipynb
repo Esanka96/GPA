{
 "cells": [
  {
   "cell_type": "code",
   "execution_count": 1,
   "metadata": {},
   "outputs": [
    {
     "name": "stdout",
     "output_type": "stream",
     "text": [
      "----  ----  ----  ----  ----  ----  ----\n",
      "Sem1  Sem2  Sem3  Sem4  Sem5  Sem6  Sem7\n",
      "3.79  3.85  3.84  3.89  3.93  3.82  3.85\n",
      "3.79  3.83  3.83  3.85  3.86  3.86  3.86\n",
      "----  ----  ----  ----  ----  ----  ----\n"
     ]
    }
   ],
   "source": [
    "import pandas as pd\n",
    "df = pd.read_excel(\"Modeule_file.xlsx\", sheet_name='Sheet1')\n",
    "list1 = list(df['Number of Semester'])\n",
    "N=int(list1[0])\n",
    "list3=[]\n",
    "list4=[]\n",
    "X=1\n",
    "table=[]\n",
    "Sem_count=[]\n",
    "\n",
    "for i in range(N):\n",
    "    Number=str(i+1)\n",
    "    Sem1='Sem'+Number\n",
    "    Weight1='Weight'+Number\n",
    "    list1 = list(df[Sem1])\n",
    "    list2=list(df[Weight1])\n",
    "    list3.append(list1)\n",
    "    list4.append(list2)\n",
    "    Sem_count.append(Sem1)\n",
    "\n",
    "List1_of_Grade=[]\n",
    "List1_of_Weigth=[]\n",
    "for i in range(len(list3)):\n",
    "    List2_of_Grade=[]\n",
    "    List2_of_Weigth=[]\n",
    "    for j in range(len(list3[i])):\n",
    "        if str(list3[i][j])=='nan':\n",
    "            break\n",
    "        List2_of_Grade.append(str(list3[i][j]))\n",
    "        List2_of_Weigth.append(str(list4[i][j]))\n",
    "    List1_of_Grade.append(List2_of_Grade)\n",
    "    List1_of_Weigth.append(List2_of_Weigth)\n",
    "\n",
    "List1_of_Credit=[]\n",
    "for i in range(len(List1_of_Grade)):\n",
    "    List2_of_Credit=[]\n",
    "    for j in range(len(List1_of_Grade[i])):\n",
    "        listResult=[\"A+\",\"A\",\"A-\",\"B+\",\"B\",\"B-\",\"C+\",\"C\",\"C-\",\"D\",\"I-WE\"]\n",
    "        listCredit=[4.2,4,3.7,3.3,3,2.7,2.3,2,1.5,1,0]\n",
    "        for k in range(len(listResult)):\n",
    "            if listResult[k]==List1_of_Grade[i][j]:\n",
    "                Credit=listCredit[k]\n",
    "        List2_of_Credit.append(Credit)\n",
    "    List1_of_Credit.append(List2_of_Credit)\n",
    "\n",
    "if X==1:\n",
    "    List1_GPA=[]\n",
    "    List1_Values=[]\n",
    "    for i in range(len(List1_of_Weigth)):\n",
    "        Total_Weight=0\n",
    "        Total_Amount=0\n",
    "        for j in range(len(List1_of_Weigth[i])):\n",
    "            Total_Amount=Total_Amount+(float(List1_of_Weigth[i][j])*float(List1_of_Credit[i][j]))\n",
    "            Total_Weight=Total_Weight+float(List1_of_Weigth[i][j])\n",
    "        GPA=round(Total_Amount/Total_Weight,2)\n",
    "        List1_GPA.append(GPA)\n",
    "        List1_Values.append(Total_Weight)\n",
    "\n",
    "    Total_Value=0\n",
    "    Total_Weight=0\n",
    "    List_of_final_GPA=[]\n",
    "    for i in range(len(List1_Values)):\n",
    "        Total_Value=Total_Value+(List1_Values[i]*List1_GPA[i])\n",
    "        Total_Weight=Total_Weight+List1_Values[i]\n",
    "        Final_GPA=round(Total_Value/Total_Weight,2)\n",
    "        List_of_final_GPA.append(Final_GPA)\n",
    "    \n",
    "table.append(Sem_count)\n",
    "table.append(List1_GPA)\n",
    "table.append(List_of_final_GPA)\n",
    "from tabulate import tabulate\n",
    "print(tabulate(table))\n",
    "\n",
    "import pandas as pd\n",
    "df = pd.DataFrame({'Sems': Sem_count,'Sem GPA': List1_GPA,'Final GPA' :List_of_final_GPA })\n",
    "writer = pd.ExcelWriter('Final.xlsx', engine='xlsxwriter')\n",
    "df.to_excel(writer, sheet_name='Sheet1', index=False)\n",
    "writer.close()\n"
   ]
  },
  {
   "cell_type": "code",
   "execution_count": null,
   "metadata": {},
   "outputs": [],
   "source": []
  },
  {
   "cell_type": "code",
   "execution_count": null,
   "metadata": {},
   "outputs": [],
   "source": []
  },
  {
   "cell_type": "code",
   "execution_count": null,
   "metadata": {},
   "outputs": [],
   "source": []
  },
  {
   "cell_type": "code",
   "execution_count": null,
   "metadata": {},
   "outputs": [],
   "source": []
  }
 ],
 "metadata": {
  "kernelspec": {
   "display_name": "Python 3 (ipykernel)",
   "language": "python",
   "name": "python3"
  },
  "language_info": {
   "codemirror_mode": {
    "name": "ipython",
    "version": 3
   },
   "file_extension": ".py",
   "mimetype": "text/x-python",
   "name": "python",
   "nbconvert_exporter": "python",
   "pygments_lexer": "ipython3",
   "version": "3.9.13"
  }
 },
 "nbformat": 4,
 "nbformat_minor": 2
}
